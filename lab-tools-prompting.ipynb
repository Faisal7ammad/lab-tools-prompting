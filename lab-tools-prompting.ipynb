{
  "cells": [
    {
      "cell_type": "markdown",
      "id": "17ed32b1",
      "metadata": {
        "toc": true,
        "id": "17ed32b1"
      },
      "source": [
        "<h1>Table of Contents<span class=\"tocSkip\"></span></h1>\n",
        "<div class=\"toc\"><ul class=\"toc-item\"><li><span><a href=\"#Lab-|-Tools-prompting\" data-toc-modified-id=\"Lab-|-Tools-prompting-1\"><span class=\"toc-item-num\">1&nbsp;&nbsp;</span>Lab | Tools prompting</a></span><ul class=\"toc-item\"><li><ul class=\"toc-item\"><li><span><a href=\"#How-to-add-ad-hoc-tool-calling-capability-to-LLMs-and-Chat-Models\" data-toc-modified-id=\"How-to-add-ad-hoc-tool-calling-capability-to-LLMs-and-Chat-Models-1.0.1\"><span class=\"toc-item-num\">1.0.1&nbsp;&nbsp;</span>How to add ad-hoc tool calling capability to LLMs and Chat Models</a></span></li></ul></li><li><span><a href=\"#Setup\" data-toc-modified-id=\"Setup-1.1\"><span class=\"toc-item-num\">1.1&nbsp;&nbsp;</span>Setup</a></span></li><li><span><a href=\"#Create-a-tool\" data-toc-modified-id=\"Create-a-tool-1.2\"><span class=\"toc-item-num\">1.2&nbsp;&nbsp;</span>Create a tool</a></span></li><li><span><a href=\"#Creating-our-prompt\" data-toc-modified-id=\"Creating-our-prompt-1.3\"><span class=\"toc-item-num\">1.3&nbsp;&nbsp;</span>Creating our prompt</a></span></li><li><span><a href=\"#Adding-an-output-parser\" data-toc-modified-id=\"Adding-an-output-parser-1.4\"><span class=\"toc-item-num\">1.4&nbsp;&nbsp;</span>Adding an output parser</a></span></li><li><span><a href=\"#Invoking-the-tool-🏃\" data-toc-modified-id=\"Invoking-the-tool-🏃-1.5\"><span class=\"toc-item-num\">1.5&nbsp;&nbsp;</span>Invoking the tool 🏃</a></span></li><li><span><a href=\"#Let's-put-it-together\" data-toc-modified-id=\"Let's-put-it-together-1.6\"><span class=\"toc-item-num\">1.6&nbsp;&nbsp;</span>Let's put it together</a></span></li><li><span><a href=\"#Returning-tool-inputs\" data-toc-modified-id=\"Returning-tool-inputs-1.7\"><span class=\"toc-item-num\">1.7&nbsp;&nbsp;</span>Returning tool inputs</a></span></li><li><span><a href=\"#What's-next?\" data-toc-modified-id=\"What's-next?-1.8\"><span class=\"toc-item-num\">1.8&nbsp;&nbsp;</span>What's next?</a></span></li></ul></li></ul></div>"
      ]
    },
    {
      "cell_type": "markdown",
      "id": "77f66dbe-192b-471c-9cb8-e9b365e61bbb",
      "metadata": {
        "id": "77f66dbe-192b-471c-9cb8-e9b365e61bbb"
      },
      "source": [
        "# Lab | Tools prompting\n",
        "\n",
        "**Replace the existing two tools decorators, by creating 3 new ones and adjust the prompts accordingly**"
      ]
    },
    {
      "cell_type": "markdown",
      "id": "14b94240",
      "metadata": {
        "id": "14b94240"
      },
      "source": [
        "### How to add ad-hoc tool calling capability to LLMs and Chat Models\n",
        "\n",
        ":::{.callout-caution}\n",
        "\n",
        "Some models have been fine-tuned for tool calling and provide a dedicated API for tool calling. Generally, such models are better at tool calling than non-fine-tuned models, and are recommended for use cases that require tool calling. Please see the [how to use a chat model to call tools](/docs/how_to/tool_calling) guide for more information.\n",
        "\n",
        "In this guide, we'll see how to add **ad-hoc** tool calling support to a chat model. This is an alternative method to invoke tools if you're using a model that does not natively support tool calling.\n",
        "\n",
        "We'll do this by simply writing a prompt that will get the model to invoke the appropriate tools. Here's a diagram of the logic:\n",
        "\n",
        "<br>\n",
        "\n",
        "![chain](https://education-team-2020.s3.eu-west-1.amazonaws.com/ai-eng/tool_chain.svg)"
      ]
    },
    {
      "cell_type": "markdown",
      "id": "a0a22cb8-19e7-450a-9d1b-6848d2c81cd1",
      "metadata": {
        "id": "a0a22cb8-19e7-450a-9d1b-6848d2c81cd1"
      },
      "source": [
        "## Setup\n",
        "\n",
        "We'll need to install the following packages:"
      ]
    },
    {
      "cell_type": "code",
      "execution_count": 32,
      "id": "8c556c5e-b785-428b-8e7d-efd34a2a1adb",
      "metadata": {
        "id": "8c556c5e-b785-428b-8e7d-efd34a2a1adb"
      },
      "outputs": [],
      "source": [
        "%pip install --upgrade --quiet langchain langchain-community"
      ]
    },
    {
      "cell_type": "code",
      "source": [
        "!pip install ollama openai"
      ],
      "metadata": {
        "colab": {
          "base_uri": "https://localhost:8080/"
        },
        "id": "D8941eZ1lnQ8",
        "outputId": "1b44051e-837d-407f-a33c-1187cb64aa9e"
      },
      "id": "D8941eZ1lnQ8",
      "execution_count": 33,
      "outputs": [
        {
          "output_type": "stream",
          "name": "stdout",
          "text": [
            "Requirement already satisfied: ollama in /usr/local/lib/python3.10/dist-packages (0.2.1)\n",
            "Requirement already satisfied: openai in /usr/local/lib/python3.10/dist-packages (1.35.10)\n",
            "Requirement already satisfied: httpx<0.28.0,>=0.27.0 in /usr/local/lib/python3.10/dist-packages (from ollama) (0.27.0)\n",
            "Requirement already satisfied: anyio<5,>=3.5.0 in /usr/local/lib/python3.10/dist-packages (from openai) (3.7.1)\n",
            "Requirement already satisfied: distro<2,>=1.7.0 in /usr/lib/python3/dist-packages (from openai) (1.7.0)\n",
            "Requirement already satisfied: pydantic<3,>=1.9.0 in /usr/local/lib/python3.10/dist-packages (from openai) (2.8.0)\n",
            "Requirement already satisfied: sniffio in /usr/local/lib/python3.10/dist-packages (from openai) (1.3.1)\n",
            "Requirement already satisfied: tqdm>4 in /usr/local/lib/python3.10/dist-packages (from openai) (4.66.4)\n",
            "Requirement already satisfied: typing-extensions<5,>=4.7 in /usr/local/lib/python3.10/dist-packages (from openai) (4.12.2)\n",
            "Requirement already satisfied: idna>=2.8 in /usr/local/lib/python3.10/dist-packages (from anyio<5,>=3.5.0->openai) (3.7)\n",
            "Requirement already satisfied: exceptiongroup in /usr/local/lib/python3.10/dist-packages (from anyio<5,>=3.5.0->openai) (1.2.1)\n",
            "Requirement already satisfied: certifi in /usr/local/lib/python3.10/dist-packages (from httpx<0.28.0,>=0.27.0->ollama) (2024.6.2)\n",
            "Requirement already satisfied: httpcore==1.* in /usr/local/lib/python3.10/dist-packages (from httpx<0.28.0,>=0.27.0->ollama) (1.0.5)\n",
            "Requirement already satisfied: h11<0.15,>=0.13 in /usr/local/lib/python3.10/dist-packages (from httpcore==1.*->httpx<0.28.0,>=0.27.0->ollama) (0.14.0)\n",
            "Requirement already satisfied: annotated-types>=0.4.0 in /usr/local/lib/python3.10/dist-packages (from pydantic<3,>=1.9.0->openai) (0.7.0)\n",
            "Requirement already satisfied: pydantic-core==2.20.0 in /usr/local/lib/python3.10/dist-packages (from pydantic<3,>=1.9.0->openai) (2.20.0)\n"
          ]
        }
      ]
    },
    {
      "cell_type": "markdown",
      "id": "897bc01e-cc2b-4400-8a64-db4aa56085d3",
      "metadata": {
        "id": "897bc01e-cc2b-4400-8a64-db4aa56085d3"
      },
      "source": [
        "If you'd like to use LangSmith, uncomment the below:"
      ]
    },
    {
      "cell_type": "code",
      "execution_count": 34,
      "id": "5efb4170-b95b-4d29-8f57-09509f3ba6df",
      "metadata": {
        "id": "5efb4170-b95b-4d29-8f57-09509f3ba6df",
        "colab": {
          "base_uri": "https://localhost:8080/"
        },
        "outputId": "39f6176d-7ba4-431a-aaa7-7842787cd1b1"
      },
      "outputs": [
        {
          "name": "stdout",
          "output_type": "stream",
          "text": [
            "··········\n"
          ]
        }
      ],
      "source": [
        "import getpass\n",
        "import os\n",
        "os.environ[\"LANGCHAIN_TRACING_V2\"] = \"true\"\n",
        "os.environ[\"LANGCHAIN_API_KEY\"] = getpass.getpass()"
      ]
    },
    {
      "cell_type": "code",
      "source": [
        "!curl -fsSL https://ollama.com/install.sh | sh"
      ],
      "metadata": {
        "colab": {
          "base_uri": "https://localhost:8080/"
        },
        "id": "nysa47pxlnTS",
        "outputId": "b33b3041-8f28-4dfe-86e3-148866d16886"
      },
      "id": "nysa47pxlnTS",
      "execution_count": 35,
      "outputs": [
        {
          "output_type": "stream",
          "name": "stdout",
          "text": [
            ">>> Downloading ollama...\n",
            "############################################################################################# 100.0%\n",
            ">>> Installing ollama to /usr/local/bin...\n",
            ">>> Adding ollama user to video group...\n",
            ">>> Adding current user to ollama group...\n",
            ">>> Creating ollama systemd service...\n",
            "WARNING: Unable to detect NVIDIA/AMD GPU. Install lspci or lshw to automatically detect and install GPU dependencies.\n",
            ">>> The Ollama API is now available at 127.0.0.1:11434.\n",
            ">>> Install complete. Run \"ollama\" from the command line.\n"
          ]
        }
      ]
    },
    {
      "cell_type": "code",
      "source": [
        "!rm myscript.sh\n",
        "!echo '#!/bin/bash' > myscript.sh\n",
        "!echo 'ollama serve' >> myscript.sh\n",
        "# Make the script executable\n",
        "!chmod +x myscript.sh\n",
        "!nohup ./myscript.sh &"
      ],
      "metadata": {
        "colab": {
          "base_uri": "https://localhost:8080/"
        },
        "id": "qavGwOnFlq1Z",
        "outputId": "a32eb049-d52d-4922-b83d-b49e37fa1a4c"
      },
      "id": "qavGwOnFlq1Z",
      "execution_count": 36,
      "outputs": [
        {
          "output_type": "stream",
          "name": "stdout",
          "text": [
            "nohup: appending output to 'nohup.out'\n"
          ]
        }
      ]
    },
    {
      "cell_type": "code",
      "source": [
        "#running model:\n",
        "!nohup ollama run phi3:medium > ollama_model.log 2>&1 &"
      ],
      "metadata": {
        "id": "4yjrUXTmm9wX"
      },
      "id": "4yjrUXTmm9wX",
      "execution_count": 37,
      "outputs": []
    },
    {
      "cell_type": "code",
      "source": [
        "#pulling embeddings:\n",
        "!nohup ollama pull phi3:medium > ollama_emd_model.log 2>&1 &"
      ],
      "metadata": {
        "id": "3GAfTxXpnXQA"
      },
      "id": "3GAfTxXpnXQA",
      "execution_count": 38,
      "outputs": []
    },
    {
      "cell_type": "code",
      "source": [
        "!ollama list"
      ],
      "metadata": {
        "colab": {
          "base_uri": "https://localhost:8080/"
        },
        "id": "t3gjOGisngAa",
        "outputId": "fb095862-2855-4f68-88f4-58197aa3940b"
      },
      "id": "t3gjOGisngAa",
      "execution_count": 39,
      "outputs": [
        {
          "output_type": "stream",
          "name": "stdout",
          "text": [
            "NAME       \tID          \tSIZE  \tMODIFIED       \n",
            "phi3:mini  \td184c916657e\t2.2 GB\t17 minutes ago\t\n",
            "phi3:medium\t1e67dff39209\t7.9 GB\t17 minutes ago\t\n"
          ]
        }
      ]
    },
    {
      "cell_type": "markdown",
      "id": "7ec6409b-21e5-4d0a-8a46-c4ef0b055dd3",
      "metadata": {
        "id": "7ec6409b-21e5-4d0a-8a46-c4ef0b055dd3"
      },
      "source": [
        "You can select any of the given models for this how-to guide. Keep in mind that most of these models already [support native tool calling](/docs/integrations/chat/), so using the prompting strategy shown here doesn't make sense for these models, and instead you should follow the [how to use a chat model to call tools](/docs/how_to/tool_calling) guide.\n",
        "\n",
        "```{=mdx}\n",
        "import ChatModelTabs from \"@theme/ChatModelTabs\";\n",
        "\n",
        "<ChatModelTabs openaiParams={`model=\"gpt-4\"`} />\n",
        "```\n",
        "\n",
        "To illustrate the idea, we'll use `phi3` via Ollama, which does **NOT** have native support for tool calling. If you'd like to use `Ollama` as well follow [these instructions](/docs/integrations/chat/ollama/)."
      ]
    },
    {
      "cell_type": "code",
      "execution_count": 40,
      "id": "424be968-2806-4d1a-a6aa-5499ae20fac5",
      "metadata": {
        "id": "424be968-2806-4d1a-a6aa-5499ae20fac5"
      },
      "outputs": [],
      "source": [
        "# from langchain_community.llms import Ollama\n",
        "\n",
        "# model = Ollama(model=\"phi3\")\n",
        "\n"
      ]
    },
    {
      "cell_type": "markdown",
      "id": "68946881",
      "metadata": {
        "id": "68946881"
      },
      "source": [
        "## Create a tool\n",
        "\n",
        "First, let's create an `add` and `multiply` tools. For more information on creating custom tools, please see [this guide](/docs/how_to/custom_tools)."
      ]
    },
    {
      "cell_type": "code",
      "execution_count": 41,
      "id": "4548e6fa-0f9b-4d7a-8fa5-66cec0350e5f",
      "metadata": {
        "colab": {
          "base_uri": "https://localhost:8080/"
        },
        "id": "4548e6fa-0f9b-4d7a-8fa5-66cec0350e5f",
        "outputId": "79b596b3-f4b9-4c55-bc71-64e68ff967de"
      },
      "outputs": [
        {
          "output_type": "stream",
          "name": "stdout",
          "text": [
            "--\n",
            "multiply\n",
            "Multiply two numbers together.\n",
            "{'x': {'title': 'X', 'type': 'number'}, 'y': {'title': 'Y', 'type': 'number'}}\n",
            "--\n",
            "add\n",
            "Add two numbers.\n",
            "{'x': {'title': 'X', 'type': 'integer'}, 'y': {'title': 'Y', 'type': 'integer'}}\n"
          ]
        }
      ],
      "source": [
        "from langchain_core.tools import tool\n",
        "\n",
        "\n",
        "@tool\n",
        "def multiply(x: float, y: float) -> float:\n",
        "    \"\"\"Multiply two numbers together.\"\"\"\n",
        "    return x * y\n",
        "\n",
        "\n",
        "@tool\n",
        "def add(x: int, y: int) -> int:\n",
        "    \"Add two numbers.\"\n",
        "    return x + y\n",
        "\n",
        "\n",
        "tools = [multiply, add]\n",
        "\n",
        "# Let's inspect the tools\n",
        "for t in tools:\n",
        "    print(\"--\")\n",
        "    print(t.name)\n",
        "    print(t.description)\n",
        "    print(t.args)"
      ]
    },
    {
      "cell_type": "code",
      "execution_count": 42,
      "id": "be77e780",
      "metadata": {
        "colab": {
          "base_uri": "https://localhost:8080/"
        },
        "id": "be77e780",
        "outputId": "1ab9366b-972c-4241-bb8e-00b3951604ee"
      },
      "outputs": [
        {
          "output_type": "execute_result",
          "data": {
            "text/plain": [
              "20.0"
            ]
          },
          "metadata": {},
          "execution_count": 42
        }
      ],
      "source": [
        "multiply.invoke({\"x\": 4, \"y\": 5})"
      ]
    },
    {
      "cell_type": "markdown",
      "id": "15dd690e-e54d-4209-91a4-181f69a452ac",
      "metadata": {
        "id": "15dd690e-e54d-4209-91a4-181f69a452ac"
      },
      "source": [
        "## Creating our prompt\n",
        "\n",
        "We'll want to write a prompt that specifies the tools the model has access to, the arguments to those tools, and the desired output format of the model. In this case we'll instruct it to output a JSON blob of the form `{\"name\": \"...\", \"arguments\": {...}}`."
      ]
    },
    {
      "cell_type": "code",
      "execution_count": 99,
      "id": "2063b564-25ca-4729-a45f-ba4633175b04",
      "metadata": {
        "colab": {
          "base_uri": "https://localhost:8080/"
        },
        "id": "2063b564-25ca-4729-a45f-ba4633175b04",
        "outputId": "ba070f6a-52e9-47af-9314-68b9630717f4"
      },
      "outputs": [
        {
          "output_type": "stream",
          "name": "stdout",
          "text": [
            "multiply(x: float, y: float) -> float - Multiply two numbers together.\n",
            "add(x: int, y: int) -> int - Add two numbers.\n"
          ]
        }
      ],
      "source": [
        "import ollama\n",
        "from langchain_core.prompts import ChatPromptTemplate\n",
        "from langchain_core.output_parsers import JsonOutputParser\n",
        "from langchain_core.runnables import Runnable\n",
        "from langchain_core.tools import render_text_description\n",
        "import json\n",
        "\n",
        "rendered_tools = render_text_description(tools)\n",
        "print(rendered_tools)"
      ]
    },
    {
      "cell_type": "code",
      "source": [
        "class OllamaLLM(Runnable):\n",
        "    def __init__(self, model_name):\n",
        "        self.model_name = model_name\n",
        "\n",
        "    def invoke(self, input, config=None):\n",
        "        # Handle ChatPromptValue object\n",
        "        if hasattr(input, \"to_string\"):\n",
        "            user_input = input.to_string()\n",
        "        else:\n",
        "            user_input = input.get(\"input\", \"\")\n",
        "\n",
        "        # Define the system message content\n",
        "        system_content = f\"\"\"\n",
        "          You are an assistant that has access to the following set of tools.\n",
        "          Here are the names and descriptions for each tool:\n",
        "          {rendered_tools}\n",
        "          Given the user input, return the name and input of the tool to use.\n",
        "          Return your response as a JSON blob with 'name' and 'arguments' keys.\n",
        "          The 'arguments' should be a dictionary, with keys corresponding\n",
        "          to the argument names and the values corresponding to the requested values.\n",
        "          Ensure the arguments are named correctly according to the tool's requirements:\n",
        "          - For the add tool, arguments must be named: 'x' and 'y'\n",
        "        \"\"\"\n",
        "\n",
        "        response = ollama.chat(\n",
        "            model=self.model_name,\n",
        "            messages=[\n",
        "                {\n",
        "                    'role': 'system',\n",
        "                    'content': system_content\n",
        "                },\n",
        "                {\n",
        "                    'role': 'user',\n",
        "                    'content': user_input\n",
        "                }\n",
        "            ]\n",
        "        )\n",
        "\n",
        "        # EDIT: Ensure the response content is a string and properly formatted\n",
        "        return response['message']['content']\n",
        "\n",
        "# Example usage\n",
        "model = OllamaLLM(model_name=\"phi3:medium\")\n",
        "response = model.invoke({\"input\": \"what's 3 plus 1132\"})\n",
        "print(response)  # Print the response directly for debugging\n"
      ],
      "metadata": {
        "colab": {
          "base_uri": "https://localhost:8080/"
        },
        "id": "NMciSt2iAsVU",
        "outputId": "f4880ff5-5c56-464e-9b1d-7aa04193855f"
      },
      "id": "NMciSt2iAsVU",
      "execution_count": 103,
      "outputs": [
        {
          "output_type": "stream",
          "name": "stdout",
          "text": [
            " {\n",
            "  \"name\": \"add\",\n",
            "  \"arguments\": {\n",
            "    \"x\": 3,\n",
            "    \"y\": 1132\n",
            "  }\n",
            "}\n"
          ]
        }
      ]
    },
    {
      "cell_type": "markdown",
      "id": "14df2cd5-b6fa-4b10-892d-e8692c7931e5",
      "metadata": {
        "id": "14df2cd5-b6fa-4b10-892d-e8692c7931e5"
      },
      "source": [
        "## Adding an output parser\n",
        "\n",
        "We'll use the `JsonOutputParser` for parsing our models output to JSON."
      ]
    },
    {
      "cell_type": "code",
      "execution_count": 94,
      "id": "f129f5bd-127c-4c95-8f34-8f437da7ca8f",
      "metadata": {
        "id": "f129f5bd-127c-4c95-8f34-8f437da7ca8f",
        "outputId": "f99328a5-5030-4bf1-dedf-61a84886819e",
        "colab": {
          "base_uri": "https://localhost:8080/"
        }
      },
      "outputs": [
        {
          "output_type": "execute_result",
          "data": {
            "text/plain": [
              "{'name': 'multiply', 'arguments': {'x': 13, 'n': 4}}"
            ]
          },
          "metadata": {},
          "execution_count": 94
        }
      ],
      "source": [
        "from langchain_core.prompts import ChatPromptTemplate\n",
        "from langchain_core.output_parsers import JsonOutputParser\n",
        "\n",
        "# Create the prompt template\n",
        "prompt = ChatPromptTemplate.from_template(f\"\"\"\n",
        "[system]\n",
        "{system_content}\n",
        "\n",
        "[user]\n",
        "{{input}}\n",
        "\"\"\")\n",
        "\n",
        "# Set up the chain with the prompt, model, and JsonOutputParser\n",
        "chain = prompt | model | JsonOutputParser()\n",
        "\n",
        "# Invoke the chain with the input\n",
        "chain.invoke({\"input\": \"what's thirteen times 4\"})"
      ]
    },
    {
      "cell_type": "markdown",
      "id": "e1f08255-f146-4f4a-be43-5c21c1d3ae83",
      "metadata": {
        "id": "e1f08255-f146-4f4a-be43-5c21c1d3ae83"
      },
      "source": [
        ":::{.callout-important}\n",
        "\n",
        "🎉 Amazing! 🎉 We now instructed our model on how to **request** that a tool be invoked.\n",
        "\n",
        "Now, let's create some logic to actually run the tool!\n",
        ":::"
      ]
    },
    {
      "cell_type": "markdown",
      "id": "8e29dd4c-8eb5-457f-92d1-8add076404dc",
      "metadata": {
        "id": "8e29dd4c-8eb5-457f-92d1-8add076404dc"
      },
      "source": [
        "## Invoking the tool 🏃\n",
        "\n",
        "Now that the model can request that a tool be invoked, we need to write a function that can actually invoke\n",
        "the tool.\n",
        "\n",
        "The function will select the appropriate tool by name, and pass to it the arguments chosen by the model."
      ]
    },
    {
      "cell_type": "code",
      "execution_count": 95,
      "id": "faee95e0-4095-4310-991f-9e9465c6738e",
      "metadata": {
        "id": "faee95e0-4095-4310-991f-9e9465c6738e"
      },
      "outputs": [],
      "source": [
        "from typing import Any, Dict, Optional, TypedDict\n",
        "\n",
        "from langchain_core.runnables import RunnableConfig\n",
        "\n",
        "\n",
        "class ToolCallRequest(TypedDict):\n",
        "    \"\"\"A typed dict that shows the inputs into the invoke_tool function.\"\"\"\n",
        "\n",
        "    name: str\n",
        "    arguments: Dict[str, Any]\n",
        "\n",
        "\n",
        "def invoke_tool(\n",
        "    tool_call_request: ToolCallRequest, config: Optional[RunnableConfig] = None\n",
        "):\n",
        "    \"\"\"A function that we can use the perform a tool invocation.\n",
        "\n",
        "    Args:\n",
        "        tool_call_request: a dict that contains the keys name and arguments.\n",
        "            The name must match the name of a tool that exists.\n",
        "            The arguments are the arguments to that tool.\n",
        "        config: This is configuration information that LangChain uses that contains\n",
        "            things like callbacks, metadata, etc.See LCEL documentation about RunnableConfig.\n",
        "\n",
        "    Returns:\n",
        "        output from the requested tool\n",
        "    \"\"\"\n",
        "    tool_name_to_tool = {tool.name: tool for tool in tools}\n",
        "    name = tool_call_request[\"name\"]\n",
        "    requested_tool = tool_name_to_tool[name]\n",
        "    return requested_tool.invoke(tool_call_request[\"arguments\"], config=config)"
      ]
    },
    {
      "cell_type": "markdown",
      "id": "f4957532-9e0c-47f6-bb62-0fd789ac1d3e",
      "metadata": {
        "id": "f4957532-9e0c-47f6-bb62-0fd789ac1d3e"
      },
      "source": [
        "Let's test this out 🧪!"
      ]
    },
    {
      "cell_type": "code",
      "execution_count": 96,
      "id": "d0ea3b2a-8fb2-4016-83c8-a5d3e78fedbc",
      "metadata": {
        "id": "d0ea3b2a-8fb2-4016-83c8-a5d3e78fedbc",
        "outputId": "994dba4e-1b9f-4d0a-fb26-1107b1fcb8b6",
        "colab": {
          "base_uri": "https://localhost:8080/"
        }
      },
      "outputs": [
        {
          "output_type": "execute_result",
          "data": {
            "text/plain": [
              "15.0"
            ]
          },
          "metadata": {},
          "execution_count": 96
        }
      ],
      "source": [
        "invoke_tool({\"name\": \"multiply\", \"arguments\": {\"x\": 3, \"y\": 5}})"
      ]
    },
    {
      "cell_type": "markdown",
      "id": "715af6e1-935d-4bc0-a3d2-646ecf8a329b",
      "metadata": {
        "id": "715af6e1-935d-4bc0-a3d2-646ecf8a329b"
      },
      "source": [
        "## Let's put it together\n",
        "\n",
        "Let's put it together into a chain that creates a calculator with add and multiplication capabilities."
      ]
    },
    {
      "cell_type": "code",
      "execution_count": 97,
      "id": "0555b384-fde6-4404-86e0-7ea199003d58",
      "metadata": {
        "id": "0555b384-fde6-4404-86e0-7ea199003d58",
        "outputId": "64145490-bcee-40ea-a8f9-3ae06ed0cca7",
        "colab": {
          "base_uri": "https://localhost:8080/"
        }
      },
      "outputs": [
        {
          "output_type": "execute_result",
          "data": {
            "text/plain": [
              "53.83784653"
            ]
          },
          "metadata": {},
          "execution_count": 97
        }
      ],
      "source": [
        "chain = prompt | model | JsonOutputParser() | invoke_tool\n",
        "chain.invoke({\"input\": \"what's thirteen times 4.14137281\"})"
      ]
    },
    {
      "cell_type": "markdown",
      "id": "b4a9c5aa-f60a-4017-af6f-1ff6e04bfb61",
      "metadata": {
        "id": "b4a9c5aa-f60a-4017-af6f-1ff6e04bfb61"
      },
      "source": [
        "## Returning tool inputs\n",
        "\n",
        "It can be helpful to return not only tool outputs but also tool inputs. We can easily do this with LCEL by `RunnablePassthrough.assign`-ing the tool output. This will take whatever the input is to the RunnablePassrthrough components (assumed to be a dictionary) and add a key to it while still passing through everything that's currently in the input:"
      ]
    },
    {
      "cell_type": "code",
      "execution_count": 104,
      "id": "45404406-859d-4caa-8b9d-5838162c80a0",
      "metadata": {
        "id": "45404406-859d-4caa-8b9d-5838162c80a0",
        "outputId": "630bcb02-dbea-4ca4-ba87-eeeeb0533c59",
        "colab": {
          "base_uri": "https://localhost:8080/"
        }
      },
      "outputs": [
        {
          "output_type": "execute_result",
          "data": {
            "text/plain": [
              "{'name': 'multiply',\n",
              " 'arguments': {'x': 13, 'y': 4.14137281},\n",
              " 'output': 53.83784653}"
            ]
          },
          "metadata": {},
          "execution_count": 104
        }
      ],
      "source": [
        "from langchain_core.runnables import RunnablePassthrough\n",
        "\n",
        "chain = (\n",
        "    prompt | model | JsonOutputParser() | RunnablePassthrough.assign(output=invoke_tool)\n",
        ")\n",
        "chain.invoke({\"input\": \"what's thirteen times 4.14137281\"})"
      ]
    },
    {
      "cell_type": "markdown",
      "id": "1797fe82-ea35-4cba-834a-1caf9740d184",
      "metadata": {
        "id": "1797fe82-ea35-4cba-834a-1caf9740d184"
      },
      "source": [
        "## What's next?\n",
        "\n",
        "This how-to guide shows the \"happy path\" when the model correctly outputs all the required tool information.\n",
        "\n",
        "In reality, if you're using more complex tools, you will start encountering errors from the model, especially for models that have not been fine tuned for tool calling and for less capable models.\n",
        "\n",
        "You will need to be prepared to add strategies to improve the output from the model; e.g.,\n",
        "\n",
        "1. Provide few shot examples.\n",
        "2. Add error handling (e.g., catch the exception and feed it back to the LLM to ask it to correct its previous output)."
      ]
    }
  ],
  "metadata": {
    "colab": {
      "provenance": [],
      "gpuType": "T4"
    },
    "kernelspec": {
      "display_name": "Python 3",
      "name": "python3"
    },
    "language_info": {
      "codemirror_mode": {
        "name": "ipython",
        "version": 3
      },
      "file_extension": ".py",
      "mimetype": "text/x-python",
      "name": "python",
      "nbconvert_exporter": "python",
      "pygments_lexer": "ipython3",
      "version": "3.11.9"
    },
    "toc": {
      "base_numbering": 1,
      "nav_menu": {},
      "number_sections": true,
      "sideBar": true,
      "skip_h1_title": false,
      "title_cell": "Table of Contents",
      "title_sidebar": "Contents",
      "toc_cell": true,
      "toc_position": {},
      "toc_section_display": true,
      "toc_window_display": false
    },
    "varInspector": {
      "cols": {
        "lenName": 16,
        "lenType": 16,
        "lenVar": 40
      },
      "kernels_config": {
        "python": {
          "delete_cmd_postfix": "",
          "delete_cmd_prefix": "del ",
          "library": "var_list.py",
          "varRefreshCmd": "print(var_dic_list())"
        },
        "r": {
          "delete_cmd_postfix": ") ",
          "delete_cmd_prefix": "rm(",
          "library": "var_list.r",
          "varRefreshCmd": "cat(var_dic_list()) "
        }
      },
      "types_to_exclude": [
        "module",
        "function",
        "builtin_function_or_method",
        "instance",
        "_Feature"
      ],
      "window_display": false
    },
    "accelerator": "GPU"
  },
  "nbformat": 4,
  "nbformat_minor": 5
}